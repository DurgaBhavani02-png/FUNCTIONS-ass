{
  "nbformat": 4,
  "nbformat_minor": 0,
  "metadata": {
    "colab": {
      "provenance": []
    },
    "kernelspec": {
      "name": "python3",
      "display_name": "Python 3"
    },
    "language_info": {
      "name": "python"
    }
  },
  "cells": [
    {
      "cell_type": "markdown",
      "source": [
        "# What is the difference between a function and a method in Python\n",
        "\n",
        "\n",
        "*   Function is a reusable block of code that performs a specific task that is\n",
        "    not associated with an object or class\n",
        "*   Method is a function use to perform specific task but that is associated\n",
        "    with an object or class\n",
        "\n"
      ],
      "metadata": {
        "id": "Au-UfD9tMq5Q"
      }
    },
    {
      "cell_type": "markdown",
      "source": [
        "#  Explain the concept of function arguments and parameters in Python\n",
        "\n",
        "\n",
        "*  parameters are the variable passed inside the parentheses in the function\n",
        "   definition\n",
        "*  Rguments are the actual values passed to the function when it is called.\n",
        "\n"
      ],
      "metadata": {
        "id": "JW63iQzHOIfR"
      }
    },
    {
      "cell_type": "markdown",
      "source": [
        "# What are the different ways to define and call a function in Python\n",
        "\n",
        "\n",
        "*   most common method of defining and calling a function is using def keyword\n",
        "   ------> def function_name(parameters):\n",
        "               #function body\n",
        "               return value\n",
        "*   we can define function using lambda keyword\n",
        "    ------> lambda arguments : expression\n",
        "\n"
      ],
      "metadata": {
        "id": "hxlIazS_PX12"
      }
    },
    {
      "cell_type": "markdown",
      "source": [
        "#  What is the purpose of the `return` statement in a Python function\n",
        "\n",
        "\n",
        "*   Return statement sends the value back to the caller that value can be any\n",
        "    type of data.\n",
        "*   functions execution terminates when return statement encountered\n",
        "\n"
      ],
      "metadata": {
        "id": "4Vrzfr3CS_gg"
      }
    },
    {
      "cell_type": "markdown",
      "source": [
        "# What are iterators in Python and how do they differ from iterables\n",
        "\n",
        "\n",
        "*   an iterator is an object representing a stream of data and it will return\n",
        "    data one by one\n",
        "*   An iterable is any python object or a data structure that is capable of\n",
        "    returning\n",
        "\n"
      ],
      "metadata": {
        "id": "hKLv4MLzVnLR"
      }
    },
    {
      "cell_type": "markdown",
      "source": [
        "#  Explain the concept of generators in Python and how they are defined\n",
        "\n",
        "\n",
        "*   we can get result one by one using generators called yield\n",
        "*   generators are like iterators use to return value but not in one go .\n",
        "\n"
      ],
      "metadata": {
        "id": "YEcGcYusWPl4"
      }
    },
    {
      "cell_type": "markdown",
      "source": [
        "# What are the advantages of using generators over regular functions\n",
        "\n",
        "\n",
        "*   memory usage less is case of generators\n",
        "*   takes less time compared to regular functions to get result\n",
        "*   generators can generate infinite sequence of values it won't possible with\n",
        "    regular functions.\n",
        "\n",
        "\n",
        "\n",
        "\n"
      ],
      "metadata": {
        "id": "Hcct0cTLXkXT"
      }
    },
    {
      "cell_type": "markdown",
      "source": [
        "# What is a lambda function in Python and when is it typically used?\n",
        "\n",
        "\n",
        "*   lambda functions is another way pf defining function in a single line\n",
        "*   we can use lambda functions to minimise the code and to return in single\n",
        "   line\n",
        "\n"
      ],
      "metadata": {
        "id": "VYRTbd_7YtZh"
      }
    },
    {
      "cell_type": "markdown",
      "source": [
        "#  Explain the purpose and usage of the `map()` function in Python\n",
        "\n",
        "\n",
        "*   Its a built in function that iterates each item in an iterable\n",
        "*   we can get result any form like tuple, list, set etc.\n",
        "\n"
      ],
      "metadata": {
        "id": "9CrOTBG5aXt8"
      }
    },
    {
      "cell_type": "markdown",
      "source": [
        "# What is the difference between `map()`, `reduce()`, and `filter()` functions in Python\n",
        "\n",
        "\n",
        "*  map executes a specified function for each of iterm of an iterable\n",
        "*  filter is used to filter elements from an iterable based on some condition\n",
        "*  Reduce reduces the iterable to single value by applying a function  \n",
        "   cumulative\n",
        "*   map and filter returns in object that needs to convert to the format like tuple, list etc.\n",
        "\n",
        "\n"
      ],
      "metadata": {
        "id": "TGIgRM0Pa0-a"
      }
    },
    {
      "cell_type": "code",
      "source": [
        "# Using pen & Paper write the internal mechanism for sum operation using reduce function on this given\n",
        "from functools import reduce\n",
        "lis = [47,11,42,13]\n",
        "a = reduce(lambda x , y : x+y, lis)\n",
        "print(a)\n",
        "\n",
        "# step 1 - I have imported reduce from functools\n",
        "# step 2 - reduce will use to get output in a single value\n",
        "# step 3 - I have used lambda for matheamatical operation\n",
        "# step 4 - first 47 and 11 we assign to x and y values respectively and they will sum up next the obtained result and 42 will assign to x and y values respectively\n",
        "#          and next the obtained result and 13 will assign to x and y values and finally we will get the single value\n",
        "# step 5 - i have stored that sum value in a and i printed it."
      ],
      "metadata": {
        "id": "OLTOimd3cEfQ",
        "colab": {
          "base_uri": "https://localhost:8080/"
        },
        "outputId": "de356e51-e462-4521-db14-d43cd319ae21"
      },
      "execution_count": 28,
      "outputs": [
        {
          "output_type": "stream",
          "name": "stdout",
          "text": [
            "113\n"
          ]
        }
      ]
    },
    {
      "cell_type": "code",
      "source": [
        "#  Write a Python function that takes a list of numbers as input and returns the sum of all even numbers in\n",
        "   #the list.\n",
        "def sum_of_numbers(numbers):\n",
        "  sum = 0\n",
        "  for i in numbers:\n",
        "    if i %2 ==0:\n",
        "      sum += i\n",
        "  return sum\n",
        "sum_of_numbers([1,2,3,4,5,6])"
      ],
      "metadata": {
        "colab": {
          "base_uri": "https://localhost:8080/"
        },
        "id": "TGxqFwBr2reZ",
        "outputId": "27dcc6e5-5b00-4aff-8f94-d0e541e7be99"
      },
      "execution_count": null,
      "outputs": [
        {
          "output_type": "execute_result",
          "data": {
            "text/plain": [
              "12"
            ]
          },
          "metadata": {},
          "execution_count": 5
        }
      ]
    },
    {
      "cell_type": "code",
      "source": [
        "#  Create a Python function that accepts a string and returns the reverse of that string\n",
        "def string_fun(a):\n",
        "  b = a[::-1]\n",
        "  return b\n",
        "string_fun(\"parrot\")"
      ],
      "metadata": {
        "colab": {
          "base_uri": "https://localhost:8080/",
          "height": 36
        },
        "id": "QnoUThiY3VC4",
        "outputId": "c801ca47-9002-4d5c-e3cb-a3fcbecc35ee"
      },
      "execution_count": null,
      "outputs": [
        {
          "output_type": "execute_result",
          "data": {
            "text/plain": [
              "'torrap'"
            ],
            "application/vnd.google.colaboratory.intrinsic+json": {
              "type": "string"
            }
          },
          "metadata": {},
          "execution_count": 6
        }
      ]
    },
    {
      "cell_type": "code",
      "source": [
        "#  Implement a Python function that takes a list of integers and returns a new list containing the squares of\n",
        "# each number\n",
        "def suq_of_num(num):\n",
        "  lists =[]\n",
        "  for i in num:\n",
        "    lists.append(i**2)\n",
        "  return lists\n",
        "\n",
        "suq_of_num([4,3,5,6])"
      ],
      "metadata": {
        "colab": {
          "base_uri": "https://localhost:8080/"
        },
        "id": "4GNuoyS04nqK",
        "outputId": "6b6d6db5-4899-4945-e21a-8c18eb207126"
      },
      "execution_count": null,
      "outputs": [
        {
          "output_type": "execute_result",
          "data": {
            "text/plain": [
              "[16, 9, 25, 36]"
            ]
          },
          "metadata": {},
          "execution_count": 7
        }
      ]
    },
    {
      "cell_type": "code",
      "source": [
        "# . Write a Python function that checks if a given number is prime or not from 1 to 200\n",
        "def is_num(numb):\n",
        "  if numb <=1:\n",
        "    return False\n",
        "  for i in range (2, int(numb**0.5)+1):\n",
        "    if numb % i == 0:\n",
        "      return False\n",
        "  return True\n",
        "def prime_or_not(a, b):\n",
        " for numb in range(a,b+1):\n",
        "    if is_num:\n",
        "       print(f\"{numb} num is prime\")\n",
        "    else:\n",
        "       print(f\"{numb} num is not prime\")\n",
        "\n",
        "prime_or_not(1, 200)"
      ],
      "metadata": {
        "colab": {
          "base_uri": "https://localhost:8080/"
        },
        "id": "XnOZQY0r5aTg",
        "outputId": "b31806c7-c4b5-4c5c-8a9c-c9b58b893b3e"
      },
      "execution_count": null,
      "outputs": [
        {
          "output_type": "stream",
          "name": "stdout",
          "text": [
            "1 num is prime\n",
            "2 num is prime\n",
            "3 num is prime\n",
            "4 num is prime\n",
            "5 num is prime\n",
            "6 num is prime\n",
            "7 num is prime\n",
            "8 num is prime\n",
            "9 num is prime\n",
            "10 num is prime\n",
            "11 num is prime\n",
            "12 num is prime\n",
            "13 num is prime\n",
            "14 num is prime\n",
            "15 num is prime\n",
            "16 num is prime\n",
            "17 num is prime\n",
            "18 num is prime\n",
            "19 num is prime\n",
            "20 num is prime\n",
            "21 num is prime\n",
            "22 num is prime\n",
            "23 num is prime\n",
            "24 num is prime\n",
            "25 num is prime\n",
            "26 num is prime\n",
            "27 num is prime\n",
            "28 num is prime\n",
            "29 num is prime\n",
            "30 num is prime\n",
            "31 num is prime\n",
            "32 num is prime\n",
            "33 num is prime\n",
            "34 num is prime\n",
            "35 num is prime\n",
            "36 num is prime\n",
            "37 num is prime\n",
            "38 num is prime\n",
            "39 num is prime\n",
            "40 num is prime\n",
            "41 num is prime\n",
            "42 num is prime\n",
            "43 num is prime\n",
            "44 num is prime\n",
            "45 num is prime\n",
            "46 num is prime\n",
            "47 num is prime\n",
            "48 num is prime\n",
            "49 num is prime\n",
            "50 num is prime\n",
            "51 num is prime\n",
            "52 num is prime\n",
            "53 num is prime\n",
            "54 num is prime\n",
            "55 num is prime\n",
            "56 num is prime\n",
            "57 num is prime\n",
            "58 num is prime\n",
            "59 num is prime\n",
            "60 num is prime\n",
            "61 num is prime\n",
            "62 num is prime\n",
            "63 num is prime\n",
            "64 num is prime\n",
            "65 num is prime\n",
            "66 num is prime\n",
            "67 num is prime\n",
            "68 num is prime\n",
            "69 num is prime\n",
            "70 num is prime\n",
            "71 num is prime\n",
            "72 num is prime\n",
            "73 num is prime\n",
            "74 num is prime\n",
            "75 num is prime\n",
            "76 num is prime\n",
            "77 num is prime\n",
            "78 num is prime\n",
            "79 num is prime\n",
            "80 num is prime\n",
            "81 num is prime\n",
            "82 num is prime\n",
            "83 num is prime\n",
            "84 num is prime\n",
            "85 num is prime\n",
            "86 num is prime\n",
            "87 num is prime\n",
            "88 num is prime\n",
            "89 num is prime\n",
            "90 num is prime\n",
            "91 num is prime\n",
            "92 num is prime\n",
            "93 num is prime\n",
            "94 num is prime\n",
            "95 num is prime\n",
            "96 num is prime\n",
            "97 num is prime\n",
            "98 num is prime\n",
            "99 num is prime\n",
            "100 num is prime\n",
            "101 num is prime\n",
            "102 num is prime\n",
            "103 num is prime\n",
            "104 num is prime\n",
            "105 num is prime\n",
            "106 num is prime\n",
            "107 num is prime\n",
            "108 num is prime\n",
            "109 num is prime\n",
            "110 num is prime\n",
            "111 num is prime\n",
            "112 num is prime\n",
            "113 num is prime\n",
            "114 num is prime\n",
            "115 num is prime\n",
            "116 num is prime\n",
            "117 num is prime\n",
            "118 num is prime\n",
            "119 num is prime\n",
            "120 num is prime\n",
            "121 num is prime\n",
            "122 num is prime\n",
            "123 num is prime\n",
            "124 num is prime\n",
            "125 num is prime\n",
            "126 num is prime\n",
            "127 num is prime\n",
            "128 num is prime\n",
            "129 num is prime\n",
            "130 num is prime\n",
            "131 num is prime\n",
            "132 num is prime\n",
            "133 num is prime\n",
            "134 num is prime\n",
            "135 num is prime\n",
            "136 num is prime\n",
            "137 num is prime\n",
            "138 num is prime\n",
            "139 num is prime\n",
            "140 num is prime\n",
            "141 num is prime\n",
            "142 num is prime\n",
            "143 num is prime\n",
            "144 num is prime\n",
            "145 num is prime\n",
            "146 num is prime\n",
            "147 num is prime\n",
            "148 num is prime\n",
            "149 num is prime\n",
            "150 num is prime\n",
            "151 num is prime\n",
            "152 num is prime\n",
            "153 num is prime\n",
            "154 num is prime\n",
            "155 num is prime\n",
            "156 num is prime\n",
            "157 num is prime\n",
            "158 num is prime\n",
            "159 num is prime\n",
            "160 num is prime\n",
            "161 num is prime\n",
            "162 num is prime\n",
            "163 num is prime\n",
            "164 num is prime\n",
            "165 num is prime\n",
            "166 num is prime\n",
            "167 num is prime\n",
            "168 num is prime\n",
            "169 num is prime\n",
            "170 num is prime\n",
            "171 num is prime\n",
            "172 num is prime\n",
            "173 num is prime\n",
            "174 num is prime\n",
            "175 num is prime\n",
            "176 num is prime\n",
            "177 num is prime\n",
            "178 num is prime\n",
            "179 num is prime\n",
            "180 num is prime\n",
            "181 num is prime\n",
            "182 num is prime\n",
            "183 num is prime\n",
            "184 num is prime\n",
            "185 num is prime\n",
            "186 num is prime\n",
            "187 num is prime\n",
            "188 num is prime\n",
            "189 num is prime\n",
            "190 num is prime\n",
            "191 num is prime\n",
            "192 num is prime\n",
            "193 num is prime\n",
            "194 num is prime\n",
            "195 num is prime\n",
            "196 num is prime\n",
            "197 num is prime\n",
            "198 num is prime\n",
            "199 num is prime\n",
            "200 num is prime\n"
          ]
        }
      ]
    },
    {
      "cell_type": "code",
      "source": [
        "#  Create an iterator class in Python that generates the Fibonacci sequence up to a specified number of\n",
        "#terms.\n",
        "def fibb():\n",
        "    a = 0\n",
        "    b = 1\n",
        "    while True:\n",
        "      yield b\n",
        "      a, b = b, a+b\n",
        "\n",
        "f = fibb()\n",
        "for i in range(10):\n",
        "  print(next(f))"
      ],
      "metadata": {
        "colab": {
          "base_uri": "https://localhost:8080/"
        },
        "id": "cZyKWOSu9ia6",
        "outputId": "7596fc81-c2de-4ce4-854a-895e5678b55e"
      },
      "execution_count": null,
      "outputs": [
        {
          "output_type": "stream",
          "name": "stdout",
          "text": [
            "1\n",
            "1\n",
            "2\n",
            "3\n",
            "5\n",
            "8\n",
            "13\n",
            "21\n",
            "34\n",
            "55\n"
          ]
        }
      ]
    },
    {
      "cell_type": "code",
      "source": [
        "# Write a generator function in Python that yields the powers of 2 up to a given exponent\n",
        "def po_of_num(n):\n",
        "  for i in range (n+1):\n",
        "    b = 2**i\n",
        "    yield b\n",
        "\n",
        "for a in po_of_num(9):\n",
        "  print(a)\n"
      ],
      "metadata": {
        "colab": {
          "base_uri": "https://localhost:8080/"
        },
        "id": "k2aY7wHUC3CB",
        "outputId": "06709757-9484-4f02-d9be-e912697eb1c3"
      },
      "execution_count": null,
      "outputs": [
        {
          "output_type": "stream",
          "name": "stdout",
          "text": [
            "1\n",
            "2\n",
            "4\n",
            "8\n",
            "16\n",
            "32\n",
            "64\n",
            "128\n",
            "256\n",
            "512\n"
          ]
        }
      ]
    },
    {
      "cell_type": "code",
      "source": [
        "#  Implement a generator function that reads a file line by line and yields each line as a string.\n",
        "def a(file_path):\n",
        "  with open(file_path, 'r') as file:\n",
        "    for line in file:\n",
        "      yield line"
      ],
      "metadata": {
        "id": "8UToh0D1Gxo3"
      },
      "execution_count": null,
      "outputs": []
    },
    {
      "cell_type": "code",
      "source": [
        "#  Use a lambda function in Python to sort a list of tuples based on the second element of each tuple.\n",
        "a = [(2, 5), (8,4), (6,5)]\n",
        "a.sort(key = lambda x:x[1])\n",
        "print(a)"
      ],
      "metadata": {
        "colab": {
          "base_uri": "https://localhost:8080/"
        },
        "id": "4kBNpnfmIhN0",
        "outputId": "189d0a22-3058-4eb2-f8a9-33dd0cc947db"
      },
      "execution_count": null,
      "outputs": [
        {
          "output_type": "stream",
          "name": "stdout",
          "text": [
            "[(8, 4), (2, 5), (6, 5)]\n"
          ]
        }
      ]
    },
    {
      "cell_type": "code",
      "source": [
        "# . Write a Python program that uses `map()` to convert a list of temperatures from Celsius to Fahrenheit\n",
        "tem = [44, 55, 67.8, 24.4, 99.5]\n",
        "\n",
        "def functionname(x):\n",
        "  return (x * 1.8) + 32\n",
        "\n",
        "b = list(map(functionname,tem))\n",
        "print(b)"
      ],
      "metadata": {
        "colab": {
          "base_uri": "https://localhost:8080/"
        },
        "id": "LtMQaouEJaBZ",
        "outputId": "4117b0b4-5914-4c31-eba5-c9ca744a4e0b"
      },
      "execution_count": 20,
      "outputs": [
        {
          "output_type": "stream",
          "name": "stdout",
          "text": [
            "[111.2, 131.0, 154.04, 75.92, 211.1]\n"
          ]
        }
      ]
    },
    {
      "cell_type": "code",
      "source": [
        "# Create a Python program that uses `filter()` to remove all the vowels from a given string.\n",
        "a = list(\"remove them\")\n",
        "def vowel(x):\n",
        "  v = ('a','e','i','o','u')\n",
        "  return x not in v\n",
        "\n",
        "b = list(filter(vowel,a))\n",
        "print(b)"
      ],
      "metadata": {
        "id": "2WaA6aRKK0JB",
        "colab": {
          "base_uri": "https://localhost:8080/"
        },
        "outputId": "eb743d77-780a-4cf9-d718-8f547014888d"
      },
      "execution_count": 8,
      "outputs": [
        {
          "output_type": "stream",
          "name": "stdout",
          "text": [
            "['r', 'm', 'v', ' ', 't', 'h', 'm']\n"
          ]
        }
      ]
    },
    {
      "cell_type": "code",
      "source": [
        "# Imagine an accounting routine used in a book shop. It works on a list with sublists, which look like this:\n",
        "orderitem = [\n",
        "    [\"34587\", \"Learning python, Mark Lutz\", 4,40.95],\n",
        "    [\"98762\", \"Programming Python, Mark Lutz\", 5, 56.80],\n",
        "    [\"77226\", \"head First Python, pau Barryl\", 3, 32.95],\n",
        "    [\"88112\", \"python Cookbook, David Beazley\", 3, 24.99]\n",
        "]\n",
        "\n",
        "result = list(map(lambda x: (x[0], x[2] * x[3] + 10 if x[3]< 100 else x[2] * x[3]), orderitem))\n",
        "print(result)"
      ],
      "metadata": {
        "colab": {
          "base_uri": "https://localhost:8080/"
        },
        "id": "svP7raRBiy5v",
        "outputId": "777a42da-d03b-4f60-e574-e4a5db3cc0ff"
      },
      "execution_count": 11,
      "outputs": [
        {
          "output_type": "stream",
          "name": "stdout",
          "text": [
            "[('34587', 173.8), ('98762', 294.0), ('77226', 108.85000000000001), ('88112', 84.97)]\n"
          ]
        }
      ]
    },
    {
      "cell_type": "code",
      "source": [],
      "metadata": {
        "id": "-aaPXXJ-m6V3"
      },
      "execution_count": null,
      "outputs": []
    }
  ]
}